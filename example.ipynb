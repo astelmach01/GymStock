{
  "nbformat": 4,
  "nbformat_minor": 0,
  "metadata": {
    "colab": {
      "name": "Stock Environment.ipynb",
      "provenance": [],
      "collapsed_sections": []
    },
    "kernelspec": {
      "name": "python3",
      "display_name": "Python 3"
    },
    "language_info": {
      "name": "python"
    },
    "accelerator": "GPU"
  },
  "cells": [
    {
      "cell_type": "markdown",
      "source": [
        "##Clean Data"
      ],
      "metadata": {
        "id": "ieDix8E1aaHB"
      }
    },
    {
      "cell_type": "code",
      "source": [
        "!pip install stable_baselines3"
      ],
      "metadata": {
        "colab": {
          "base_uri": "https://localhost:8080/"
        },
        "id": "PQauJXyz9tUL",
        "outputId": "16c7e477-c644-40c6-d3f8-63ad6984a719"
      },
      "execution_count": 1,
      "outputs": [
        {
          "output_type": "stream",
          "name": "stdout",
          "text": [
            "Requirement already satisfied: stable_baselines3 in /usr/local/lib/python3.7/dist-packages (1.4.0)\n",
            "Requirement already satisfied: numpy in /usr/local/lib/python3.7/dist-packages (from stable_baselines3) (1.21.5)\n",
            "Requirement already satisfied: gym<0.20,>=0.17 in /usr/local/lib/python3.7/dist-packages (from stable_baselines3) (0.17.3)\n",
            "Requirement already satisfied: torch>=1.8.1 in /usr/local/lib/python3.7/dist-packages (from stable_baselines3) (1.10.0+cu111)\n",
            "Requirement already satisfied: pandas in /usr/local/lib/python3.7/dist-packages (from stable_baselines3) (1.3.5)\n",
            "Requirement already satisfied: matplotlib in /usr/local/lib/python3.7/dist-packages (from stable_baselines3) (3.2.2)\n",
            "Requirement already satisfied: cloudpickle in /usr/local/lib/python3.7/dist-packages (from stable_baselines3) (1.3.0)\n",
            "Requirement already satisfied: pyglet<=1.5.0,>=1.4.0 in /usr/local/lib/python3.7/dist-packages (from gym<0.20,>=0.17->stable_baselines3) (1.5.0)\n",
            "Requirement already satisfied: scipy in /usr/local/lib/python3.7/dist-packages (from gym<0.20,>=0.17->stable_baselines3) (1.4.1)\n",
            "Requirement already satisfied: future in /usr/local/lib/python3.7/dist-packages (from pyglet<=1.5.0,>=1.4.0->gym<0.20,>=0.17->stable_baselines3) (0.16.0)\n",
            "Requirement already satisfied: typing-extensions in /usr/local/lib/python3.7/dist-packages (from torch>=1.8.1->stable_baselines3) (3.10.0.2)\n",
            "Requirement already satisfied: cycler>=0.10 in /usr/local/lib/python3.7/dist-packages (from matplotlib->stable_baselines3) (0.11.0)\n",
            "Requirement already satisfied: kiwisolver>=1.0.1 in /usr/local/lib/python3.7/dist-packages (from matplotlib->stable_baselines3) (1.3.2)\n",
            "Requirement already satisfied: python-dateutil>=2.1 in /usr/local/lib/python3.7/dist-packages (from matplotlib->stable_baselines3) (2.8.2)\n",
            "Requirement already satisfied: pyparsing!=2.0.4,!=2.1.2,!=2.1.6,>=2.0.1 in /usr/local/lib/python3.7/dist-packages (from matplotlib->stable_baselines3) (3.0.7)\n",
            "Requirement already satisfied: six>=1.5 in /usr/local/lib/python3.7/dist-packages (from python-dateutil>=2.1->matplotlib->stable_baselines3) (1.15.0)\n",
            "Requirement already satisfied: pytz>=2017.3 in /usr/local/lib/python3.7/dist-packages (from pandas->stable_baselines3) (2018.9)\n"
          ]
        }
      ]
    },
    {
      "cell_type": "code",
      "execution_count": 2,
      "metadata": {
        "id": "GCjePdpOW7ZP"
      },
      "outputs": [],
      "source": [
        "import pandas as pd\n",
        "import numpy as np\n",
        "import tensorflow as tf\n",
        "import matplotlib.pyplot as plt\n",
        "from stable_baselines3.common.vec_env import DummyVecEnv"
      ]
    },
    {
      "cell_type": "code",
      "source": [
        "df = pd.read_csv('/content/drive/MyDrive/Colab Notebooks/SP500_10year_daily.csv')\n",
        "df.info()"
      ],
      "metadata": {
        "colab": {
          "base_uri": "https://localhost:8080/"
        },
        "id": "LGfIfZSGXTqW",
        "outputId": "b63cfa1c-ea16-442b-900a-d4b57546bd3a"
      },
      "execution_count": 3,
      "outputs": [
        {
          "output_type": "stream",
          "name": "stdout",
          "text": [
            "<class 'pandas.core.frame.DataFrame'>\n",
            "RangeIndex: 3275 entries, 0 to 3274\n",
            "Data columns (total 2 columns):\n",
            " #   Column  Non-Null Count  Dtype  \n",
            "---  ------  --------------  -----  \n",
            " 0   date    3275 non-null   object \n",
            " 1   value   3275 non-null   float64\n",
            "dtypes: float64(1), object(1)\n",
            "memory usage: 51.3+ KB\n"
          ]
        }
      ]
    },
    {
      "cell_type": "code",
      "source": [
        "df['date'] = pd.to_datetime(df['date'])\n",
        "df.set_index('date', inplace=True)"
      ],
      "metadata": {
        "id": "2YZC8R9_XX_n"
      },
      "execution_count": 4,
      "outputs": []
    },
    {
      "cell_type": "code",
      "source": [
        "df.plot();"
      ],
      "metadata": {
        "colab": {
          "base_uri": "https://localhost:8080/",
          "height": 269
        },
        "id": "CkQO3F8hZFmK",
        "outputId": "bcce50a4-3960-4850-ad1d-9694b333f7eb"
      },
      "execution_count": 5,
      "outputs": [
        {
          "output_type": "display_data",
          "data": {
            "text/plain": [
              "<Figure size 432x288 with 1 Axes>"
            ],
            "image/png": "[encoded data removed]"
          },
          "metadata": {
            "needs_background": "light"
          }
        }
      ]
    },
    {
      "cell_type": "markdown",
      "source": [
        "##Make Custom Environment"
      ],
      "metadata": {
        "id": "CEjbiLKhaXRl"
      }
    },
    {
      "cell_type": "code",
      "source": [
        "import gym\n",
        "from gym import Env\n",
        "from gym.spaces import *\n",
        "from stable_baselines3 import DQN\n",
        "from stable_baselines3.common.policies import *"
      ],
      "metadata": {
        "id": "AaonyP479r65"
      },
      "execution_count": 6,
      "outputs": []
    },
    {
      "cell_type": "markdown",
      "source": [
        "## TODO\n",
        "\n",
        "- money to invest (only invest a max of 1k\n",
        "- more actions - sell 25%, 50%, 75%, or sell all \n",
        "- add support for technical indicators"
      ],
      "metadata": {
        "id": "2TgaKYqF0TNk"
      }
    },
    {
      "cell_type": "code",
      "source": [
        "class StockEnv(Env):\n",
        "  ''' creates a new stock environment with the given dataframe\n",
        "  - dataframe must already be pre-processed with date data structure as the index\n",
        "    - i.e. using pd.to_datetime\n",
        "    - dates must start at earliest time (so row 0 is the earliest time)\n",
        "  - dataframe must contain price of the stock in a column named 'value'\n",
        "\n",
        "  - this environment allows us to buy, sell, or hold a stock every day with a discrete action space\n",
        "    - 0 = buy\n",
        "    - 1 = sell\n",
        "    - 2 = hold\n",
        "\n",
        "  - hyperparameters also include start_index and window_size\n",
        "    - start_index is the time that we start our data at\n",
        "    - window_size is the period of time that we want to be looking at previously\n",
        "      - i.e. 30 days behind \n",
        "\n",
        "  '''\n",
        "\n",
        "  def __init__(self, df, start_index=0, end_index=None, window_size = 30):\n",
        "\n",
        "    self.df = df\n",
        "    self.window_size = window_size\n",
        "    self.end_index = len(self.df.index) if end_index == None else end_index # where we end the data\n",
        "\n",
        "    self.action_space = Discrete(3)\n",
        "\n",
        "    spaces = {\n",
        "    'stock_prices' : Box(low=np.min(self.df)[0], high = np.max(self.df)[0], shape=(self.window_size, ), dtype=np.float32),\n",
        "    'account_amount' : Box(low = 0, high=np.inf, shape=(1, ), dtype=np.float32)\n",
        "    }\n",
        "\n",
        "    self.observation_space = gym.spaces.Dict(spaces)\n",
        "\n",
        "    self.starting_index = start_index\n",
        "    self.index = start_index # used for getting the prices\n",
        "    self.current_time = self.index + self.window_size # the current day we are looking at\n",
        "\n",
        "    prices = self._get_prices()\n",
        "    self.shares = 0\n",
        "    self.state = {\"stock_prices\" : prices, 'account_amount' : 0}\n",
        "    self.prev_money = 0\n",
        "    # a state is a tuple of the current prices we are looking at in the window along with the money we have\n",
        "\n",
        "    self.money = []\n",
        "    self.prev_render = []\n",
        "    self.first_rendering = True\n",
        "\n",
        "\n",
        "\n",
        "  # gets the prices and increments the index\n",
        "  def _get_prices(self):\n",
        "    # if we are at the end of the window\n",
        "    if self.window_size + self.index > len(self.df.index):\n",
        "      values = self.df.iloc[self.index:, 0]\n",
        "      return values.reindex(range(self.window_size), fill_value=0).tolist()\n",
        "\n",
        "    values = self.df.iloc[self.index:self.window_size + self.index, 0].tolist()\n",
        "\n",
        "    self.index += 1 # advance to the next timestep\n",
        "    self.current_time = self.index + self.window_size\n",
        "\n",
        "    return values\n",
        "\n",
        "  def _get_today_price(self):\n",
        "      return self.df['value'][self.current_time-1]\n",
        "\n",
        "\n",
        "  def step(self, action):\n",
        "\n",
        "    # calculate state\n",
        "\n",
        "    if action == 0: # buy\n",
        "      self.shares += 1\n",
        "\n",
        "    elif action == 1: # sell\n",
        "      self.shares = self.shares - 1 if self.shares > 0 else 0\n",
        "\n",
        "    elif action == 2: # hold\n",
        "      pass # do nothing\n",
        "\n",
        "    else:\n",
        "      raise Exception(\"Invalid action\")\n",
        "\n",
        "    self.state = {\"stock_prices\" : self._get_prices(), 'account_amount' : self.shares * self._get_today_price()}\n",
        "\n",
        "    # calculate reward - how much money we made each timestep/trade\n",
        "    reward = self.state['account_amount'] - self.prev_money\n",
        "    self.prev_money = self.state['account_amount']\n",
        "\n",
        "    self.money.append(self.state['account_amount'])\n",
        "\n",
        "    # calculate done\n",
        "    done = self.current_time == self.end_index\n",
        "\n",
        "\n",
        "    # calculate info\n",
        "    info = dict()\n",
        "    info['Current Money'] = self.state['account_amount']\n",
        "    info['Shares'] = self.shares\n",
        "    info['Reward'] = reward\n",
        "    info['Current Timestep'] = self.current_time\n",
        "\n",
        "    return self.state, reward, done, info\n",
        "\n",
        "\n",
        "  def render(self, mode='regular'):\n",
        "    plt.clf()\n",
        "    if mode == 'dummy':\n",
        "      y = self.prev_render\n",
        "\n",
        "    else:\n",
        "      y = self.money\n",
        "\n",
        "    plt.plot(self.df.index[self.starting_index:len(y)], y)\n",
        "    plt.show()\n",
        "      \n",
        "\n",
        "  def reset(self, mode=None):\n",
        "    self.index = self.starting_index\n",
        "    self.current_time = self.index + self.window_size\n",
        "\n",
        "    prices = self._get_prices()\n",
        "    self.shares = 0\n",
        "    self.state = {\"stock_prices\" : prices, 'account_amount' : 0}\n",
        "    self.prev_money = 0\n",
        "\n",
        "    self.prev_render = self.money\n",
        "    self.money = []\n",
        "    self.first_rendering = True\n",
        "\n",
        "\n",
        "    return self.state\n",
        "\n",
        "  def close(self):\n",
        "        plt.close()"
      ],
      "metadata": {
        "id": "pZPqtef5E_OX"
      },
      "execution_count": 7,
      "outputs": []
    },
    {
      "cell_type": "code",
      "source": [
        "env = StockEnv(df)\n",
        "\n",
        "env.observation_space.sample()"
      ],
      "metadata": {
        "colab": {
          "base_uri": "https://localhost:8080/"
        },
        "id": "nTEG4LqM7R-5",
        "outputId": "b3e833f7-04d9-461b-ada9-175c8eacad0b"
      },
      "execution_count": 8,
      "outputs": [
        {
          "output_type": "execute_result",
          "data": {
            "text/plain": [
              "OrderedDict([('account_amount', array([1.325736], dtype=float32)),\n",
              "             ('stock_prices',\n",
              "              array([2419.915 , 2288.7546, 2544.3135, 4603.1523, 3827.7925, 1541.7147,\n",
              "                     4778.3867, 2263.5505, 2802.2644, 4729.7705, 1071.3337, 1206.3282,\n",
              "                     4772.339 , 3525.1267, 4000.1814, 2503.4355, 2381.156 , 1333.899 ,\n",
              "                     3402.9277, 2216.368 , 3489.9446, 4562.277 , 2124.911 , 3229.818 ,\n",
              "                     3580.7893, 3654.1506, 1741.4215, 4468.767 , 2740.795 , 3223.78  ],\n",
              "                    dtype=float32))])"
            ]
          },
          "metadata": {},
          "execution_count": 8
        }
      ]
    },
    {
      "cell_type": "code",
      "source": [
        "episodes = 1\n",
        "\n",
        "for episode in range(episodes):\n",
        "  state = env.reset()\n",
        "  done = False\n",
        "  score = 0\n",
        "\n",
        "  while not done:\n",
        "\n",
        "      action = env.action_space.sample()\n",
        "      next_state, reward, done, info = env.step(action)\n",
        "      \n",
        "      score += reward\n",
        "\n",
        "  print(\"Episode:{} Reward {} \".format(episode, reward))\n",
        "  env.render()\n",
        "                                              "
      ],
      "metadata": {
        "colab": {
          "base_uri": "https://localhost:8080/",
          "height": 282
        },
        "id": "-_zEUFroMHWf",
        "outputId": "2abfa744-f36c-465f-ac00-384a0e2fcd3c"
      },
      "execution_count": 9,
      "outputs": [
        {
          "output_type": "stream",
          "name": "stdout",
          "text": [
            "Episode:0 Reward 561.9100000000035 \n"
          ]
        },
        {
          "output_type": "display_data",
          "data": {
            "text/plain": [
              "<Figure size 432x288 with 1 Axes>"
            ],
            "image/png": "[encoded data removed]"
          },
          "metadata": {
            "needs_background": "light"
          }
        }
      ]
    },
    {
      "cell_type": "markdown",
      "source": [
        "## Rl Train"
      ],
      "metadata": {
        "id": "DWyONHz12QV8"
      }
    },
    {
      "cell_type": "code",
      "source": [
        "results = []\n",
        "\n",
        "env = StockEnv(df)\n",
        "env = DummyVecEnv([lambda : env])\n",
        "\n",
        "policy_kwargs = dict(activation_fn=tf.nn.ReLU,\n",
        "                     net_arch=[128, 128, 128]\n",
        "model = DQN(\"MultiInputPolicy\", env, verbose=1, policy_kwargs=policy_kwargs)\n",
        "model = model.learn(total_timesteps=100000, log_interval=10)"
      ],
      "metadata": {
        "colab": {
          "base_uri": "https://localhost:8080/"
        },
        "id": "T3-DMp2Q92ow",
        "outputId": "2e092757-9fea-47db-b521-e05e1ea2917e"
      },
      "execution_count": 10,
      "outputs": [
        {
          "output_type": "stream",
          "name": "stdout",
          "text": [
            "Using cuda device\n",
            "----------------------------------\n",
            "| rollout/            |          |\n",
            "|    exploration_rate | 0.05     |\n",
            "| time/               |          |\n",
            "|    episodes         | 10       |\n",
            "|    fps              | 926      |\n",
            "|    time_elapsed     | 35       |\n",
            "|    total_timesteps  | 32440    |\n",
            "----------------------------------\n",
            "----------------------------------\n",
            "| rollout/            |          |\n",
            "|    exploration_rate | 0.05     |\n",
            "| time/               |          |\n",
            "|    episodes         | 20       |\n",
            "|    fps              | 834      |\n",
            "|    time_elapsed     | 77       |\n",
            "|    total_timesteps  | 64880    |\n",
            "| train/              |          |\n",
            "|    learning_rate    | 0.0001   |\n",
            "|    loss             | 1.18e+04 |\n",
            "|    n_updates        | 3719     |\n",
            "----------------------------------\n",
            "----------------------------------\n",
            "| rollout/            |          |\n",
            "|    exploration_rate | 0.05     |\n",
            "| time/               |          |\n",
            "|    episodes         | 30       |\n",
            "|    fps              | 627      |\n",
            "|    time_elapsed     | 155      |\n",
            "|    total_timesteps  | 97320    |\n",
            "| train/              |          |\n",
            "|    learning_rate    | 0.0001   |\n",
            "|    loss             | 6.41e+03 |\n",
            "|    n_updates        | 11829    |\n",
            "----------------------------------\n"
          ]
        }
      ]
    },
    {
      "cell_type": "code",
      "source": [
        "obs = env.reset()\n",
        "while True:\n",
        "    action, _states = model.predict(obs, deterministic=True)\n",
        "    obs, reward, done, info = env.step(action)\n",
        "    \n",
        "    if done:\n",
        "      env.render(mode='dummy')\n",
        "      print(info)\n",
        "      results.append(info[0]['Current Money'])\n",
        "      break"
      ],
      "metadata": {
        "colab": {
          "base_uri": "https://localhost:8080/",
          "height": 313
        },
        "id": "ss0mrP1j-CA2",
        "outputId": "3b0e87dc-b0de-4bb6-e6ac-06c735db5226"
      },
      "execution_count": 12,
      "outputs": [
        {
          "output_type": "display_data",
          "data": {
            "text/plain": [
              "<Figure size 432x288 with 1 Axes>"
            ],
            "image/png": "[encoded data removed]"
          },
          "metadata": {
            "needs_background": "light"
          }
        },
        {
          "output_type": "stream",
          "name": "stdout",
          "text": [
            "[{'Current Money': 13827387.799999999, 'Shares': 3244, 'Reward': 293992.0700000003, 'Current Timestep': 3275, 'terminal_observation': {'stock_prices': [4515.55, 4546.54, 4589.38, 4477.44, 4500.53, 4483.87, 4521.54, 4587.18, 4504.08, 4418.64, 4401.67, 4471.07, 4475.01, 4380.26, 4348.87, 4304.76, 4225.5, 4288.7, 4384.65, 4373.94, 4306.26, 4386.54, 4363.49, 4328.87, 4201.09, 4170.7, 4277.88, 4259.52, 4204.31, 4173.11], 'account_amount': 13827387.799999999}}]\n"
          ]
        }
      ]
    },
    {
      "cell_type": "markdown",
      "source": [
        "## Dict Observation Space"
      ],
      "metadata": {
        "id": "fJ93cLMfEiSx"
      }
    },
    {
      "cell_type": "code",
      "source": [
        "from stable_baselines3.ppo.ppo import PPO\n",
        "\n",
        "model = PPO(\"MultiInputPolicy\", env, verbose=1)\n",
        "model = model.learn(total_timesteps=100000, log_interval=10)"
      ],
      "metadata": {
        "colab": {
          "base_uri": "https://localhost:8080/"
        },
        "id": "a7ifXzWxE4f_",
        "outputId": "1cf66502-727e-4fa6-84e6-318798c919f4"
      },
      "execution_count": 13,
      "outputs": [
        {
          "output_type": "stream",
          "name": "stdout",
          "text": [
            "Using cuda device\n",
            "-------------------------------------------\n",
            "| time/                   |               |\n",
            "|    fps                  | 269           |\n",
            "|    iterations           | 10            |\n",
            "|    time_elapsed         | 76            |\n",
            "|    total_timesteps      | 20480         |\n",
            "| train/                  |               |\n",
            "|    approx_kl            | 0.00056349597 |\n",
            "|    clip_fraction        | 0             |\n",
            "|    clip_range           | 0.2           |\n",
            "|    entropy_loss         | -1            |\n",
            "|    explained_variance   | -1.19e-07     |\n",
            "|    learning_rate        | 0.0003        |\n",
            "|    loss                 | 2.63e+08      |\n",
            "|    n_updates            | 90            |\n",
            "|    policy_gradient_loss | -0.00122      |\n",
            "|    value_loss           | 5.87e+08      |\n",
            "-------------------------------------------\n",
            "-------------------------------------------\n",
            "| time/                   |               |\n",
            "|    fps                  | 278           |\n",
            "|    iterations           | 20            |\n",
            "|    time_elapsed         | 146           |\n",
            "|    total_timesteps      | 40960         |\n",
            "| train/                  |               |\n",
            "|    approx_kl            | 2.6084308e-05 |\n",
            "|    clip_fraction        | 0             |\n",
            "|    clip_range           | 0.2           |\n",
            "|    entropy_loss         | -0.93         |\n",
            "|    explained_variance   | 0             |\n",
            "|    learning_rate        | 0.0003        |\n",
            "|    loss                 | 3.29e+09      |\n",
            "|    n_updates            | 190           |\n",
            "|    policy_gradient_loss | -0.00017      |\n",
            "|    value_loss           | 1.14e+10      |\n",
            "-------------------------------------------\n",
            "------------------------------------------\n",
            "| time/                   |              |\n",
            "|    fps                  | 276          |\n",
            "|    iterations           | 30           |\n",
            "|    time_elapsed         | 222          |\n",
            "|    total_timesteps      | 61440        |\n",
            "| train/                  |              |\n",
            "|    approx_kl            | 2.135057e-07 |\n",
            "|    clip_fraction        | 0            |\n",
            "|    clip_range           | 0.2          |\n",
            "|    entropy_loss         | -0.86        |\n",
            "|    explained_variance   | 0            |\n",
            "|    learning_rate        | 0.0003       |\n",
            "|    loss                 | 5.48e+09     |\n",
            "|    n_updates            | 290          |\n",
            "|    policy_gradient_loss | -1.8e-06     |\n",
            "|    value_loss           | 1.33e+10     |\n",
            "------------------------------------------\n",
            "-------------------------------------------\n",
            "| time/                   |               |\n",
            "|    fps                  | 278           |\n",
            "|    iterations           | 40            |\n",
            "|    time_elapsed         | 293           |\n",
            "|    total_timesteps      | 81920         |\n",
            "| train/                  |               |\n",
            "|    approx_kl            | 4.7898735e-05 |\n",
            "|    clip_fraction        | 0             |\n",
            "|    clip_range           | 0.2           |\n",
            "|    entropy_loss         | -0.823        |\n",
            "|    explained_variance   | 0             |\n",
            "|    learning_rate        | 0.0003        |\n",
            "|    loss                 | 1.39e+09      |\n",
            "|    n_updates            | 390           |\n",
            "|    policy_gradient_loss | -0.000111     |\n",
            "|    value_loss           | 1.78e+09      |\n",
            "-------------------------------------------\n"
          ]
        }
      ]
    },
    {
      "cell_type": "code",
      "source": [
        "obs = env.reset()\n",
        "while True:\n",
        "    action, _states = model.predict(obs, deterministic=True)\n",
        "    obs, reward, done, info = env.step(action)\n",
        "\n",
        "    if done:\n",
        "      env.render(mode='dummy')\n",
        "      print(info)\n",
        "      results.append(info[0]['Current Money'])\n",
        "      break"
      ],
      "metadata": {
        "colab": {
          "base_uri": "https://localhost:8080/",
          "height": 313
        },
        "id": "g7nU_xCPajfr",
        "outputId": "e5375c00-0bd1-4eed-81a3-d17966400b98"
      },
      "execution_count": 15,
      "outputs": [
        {
          "output_type": "display_data",
          "data": {
            "text/plain": [
              "<Figure size 432x288 with 1 Axes>"
            ],
            "image/png": "[encoded data removed]"
          },
          "metadata": {
            "needs_background": "light"
          }
        },
        {
          "output_type": "stream",
          "name": "stdout",
          "text": [
            "[{'Current Money': 13827387.799999999, 'Shares': 3244, 'Reward': 293992.0700000003, 'Current Timestep': 3275, 'terminal_observation': {'stock_prices': [4515.55, 4546.54, 4589.38, 4477.44, 4500.53, 4483.87, 4521.54, 4587.18, 4504.08, 4418.64, 4401.67, 4471.07, 4475.01, 4380.26, 4348.87, 4304.76, 4225.5, 4288.7, 4384.65, 4373.94, 4306.26, 4386.54, 4363.49, 4328.87, 4201.09, 4170.7, 4277.88, 4259.52, 4204.31, 4173.11], 'account_amount': 13827387.799999999}}]\n"
          ]
        }
      ]
    },
    {
      "cell_type": "code",
      "source": [
        "results"
      ],
      "metadata": {
        "colab": {
          "base_uri": "https://localhost:8080/"
        },
        "id": "DkclJgw_xzXd",
        "outputId": "3d87cf10-0d0f-4928-80d6-9f1e135492f2"
      },
      "execution_count": 18,
      "outputs": [
        {
          "output_type": "execute_result",
          "data": {
            "text/plain": [
              "[13827387.799999999, 13827387.799999999]"
            ]
          },
          "metadata": {},
          "execution_count": 18
        }
      ]
    }
  ]
}